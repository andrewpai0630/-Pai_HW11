{
 "cells": [
  {
   "cell_type": "markdown",
   "metadata": {},
   "source": [
    "# Import Dependencies"
   ]
  },
  {
   "cell_type": "code",
   "execution_count": 24,
   "metadata": {},
   "outputs": [],
   "source": [
    "from bs4 import BeautifulSoup\n",
    "from splinter import Browser\n",
    "import pandas as pd\n",
    "\n",
    "def init_browser():\n",
    "    exec_path = {'executable_path': '/usr/local/bin/chromedriver'}\n",
    "    return Browser(\"chrome\", **exec_path, headless=False)\n"
   ]
  },
  {
   "cell_type": "markdown",
   "metadata": {},
   "source": [
    "# NASA Mars News"
   ]
  },
  {
   "cell_type": "code",
   "execution_count": 25,
   "metadata": {},
   "outputs": [
    {
     "name": "stdout",
     "output_type": "stream",
     "text": [
      "Latest News Title: MarCO Makes Space for Small Explorers\n",
      "------------------------------------------------------------\n",
      "Latest News Details: A pair of NASA CubeSats flying to Mars are opening a new frontier for small spacecraft.\n"
     ]
    }
   ],
   "source": [
    "#visit NASA news url\n",
    "url1 = \"https://mars.nasa.gov/news/\"\n",
    "browser = init_browser()\n",
    "browser.visit(url1)\n",
    "\n",
    "#scrape page into soup\n",
    "html = browser.html\n",
    "soup = BeautifulSoup(html, 'html.parser')\n",
    "\n",
    "#save news title and teaser\n",
    "news_title = soup.find('div', class_=\"content_title\").text\n",
    "news_p = soup.find('div', class_=\"article_teaser_body\").text\n",
    "\n",
    "#print and check results\n",
    "print(\"Latest News Title:\", news_title)\n",
    "print('-'*60)\n",
    "print(\"Latest News Details:\", news_p)"
   ]
  },
  {
   "cell_type": "markdown",
   "metadata": {},
   "source": [
    "# JPL Mars Space Images"
   ]
  },
  {
   "cell_type": "code",
   "execution_count": 26,
   "metadata": {},
   "outputs": [
    {
     "name": "stdout",
     "output_type": "stream",
     "text": [
      "https://www.jpl.nasa.gov/spaceimages/images/mediumsize/PIA16884_ip.jpg\n"
     ]
    }
   ],
   "source": [
    "#JPL Mars space images url\n",
    "url2 = \"https://www.jpl.nasa.gov/spaceimages/?search=&category=Mars\" \n",
    "\n",
    "#visit url\n",
    "browser = init_browser()\n",
    "browser.visit(url2)\n",
    "\n",
    "#use browser function find_by_id to find the \"full image\" button and click on it\n",
    "browser.find_by_id('full_image').click()\n",
    "\n",
    "#find the image url by browser function find by css and find the fancybox-image and get the src\n",
    "featured_image_url = browser.find_by_css('.fancybox-image').first['src']\n",
    "\n",
    "#print and check results\n",
    "print(featured_image_url)\n"
   ]
  },
  {
   "cell_type": "markdown",
   "metadata": {},
   "source": [
    "# Mars Weather"
   ]
  },
  {
   "cell_type": "code",
   "execution_count": 29,
   "metadata": {},
   "outputs": [
    {
     "name": "stdout",
     "output_type": "stream",
     "text": [
      "Sol 2171 (2018-09-14), high -12C/10F, low -65C/-84F, pressure at 8.79 hPa, daylight 05:43-17:59\n"
     ]
    }
   ],
   "source": [
    "#twitter url for Mars weather\n",
    "url3 = \"https://twitter.com/marswxreport?lang=en\"\n",
    "\n",
    "#visit url\n",
    "browser = init_browser()\n",
    "browser.visit(url3)\n",
    "\n",
    "#scrape page into soup\n",
    "html = browser.html\n",
    "soup = BeautifulSoup(html, 'html.parser')\n",
    "\n",
    "#find the newest tweet of the weather\n",
    "mars_weather = soup.find('p', class_=\"tweet-text\").text\n",
    "\n",
    "#print and check results\n",
    "print(mars_weather)"
   ]
  },
  {
   "cell_type": "markdown",
   "metadata": {},
   "source": [
    "# Mars Facts"
   ]
  },
  {
   "cell_type": "code",
   "execution_count": 28,
   "metadata": {},
   "outputs": [
    {
     "name": "stdout",
     "output_type": "stream",
     "text": [
      "<table border=\"1\" class=\"dataframe\">\n",
      "  <thead>\n",
      "    <tr style=\"text-align: right;\">\n",
      "      <th></th>\n",
      "      <th>Value</th>\n",
      "    </tr>\n",
      "  </thead>\n",
      "  <tbody>\n",
      "    <tr>\n",
      "      <th>Equatorial Diameter:</th>\n",
      "      <td>6,792 km</td>\n",
      "    </tr>\n",
      "    <tr>\n",
      "      <th>Polar Diameter:</th>\n",
      "      <td>6,752 km</td>\n",
      "    </tr>\n",
      "    <tr>\n",
      "      <th>Mass:</th>\n",
      "      <td>6.42 x 10^23 kg (10.7% Earth)</td>\n",
      "    </tr>\n",
      "    <tr>\n",
      "      <th>Moons:</th>\n",
      "      <td>2 (Phobos &amp; Deimos)</td>\n",
      "    </tr>\n",
      "    <tr>\n",
      "      <th>Orbit Distance:</th>\n",
      "      <td>227,943,824 km (1.52 AU)</td>\n",
      "    </tr>\n",
      "    <tr>\n",
      "      <th>Orbit Period:</th>\n",
      "      <td>687 days (1.9 years)</td>\n",
      "    </tr>\n",
      "    <tr>\n",
      "      <th>Surface Temperature:</th>\n",
      "      <td>-153 to 20 °C</td>\n",
      "    </tr>\n",
      "    <tr>\n",
      "      <th>First Record:</th>\n",
      "      <td>2nd millennium BC</td>\n",
      "    </tr>\n",
      "    <tr>\n",
      "      <th>Recorded By:</th>\n",
      "      <td>Egyptian astronomers</td>\n",
      "    </tr>\n",
      "  </tbody>\n",
      "</table>\n"
     ]
    }
   ],
   "source": [
    "#url for Mars facts\n",
    "url4 = \"http://space-facts.com/mars/\"\n",
    "\n",
    "#use pandas function to read the html and find the table by id.\n",
    "df = pd.read_html(url4, attrs = {'id': 'tablepress-mars'})[0]\n",
    "\n",
    "#set column(0) as the index and rename column 1 to \"Value\"\n",
    "df = df.set_index(0).rename(columns={1:\"Value\"})\n",
    "\n",
    "#delete the column name\n",
    "del df.index.name\n",
    "\n",
    "#use pandas function to push the dataframe to HTML table\n",
    "mars_facts = df.to_html()\n",
    "\n",
    "#print and check results\n",
    "print(mars_facts)"
   ]
  },
  {
   "cell_type": "markdown",
   "metadata": {},
   "source": [
    "# Mars Hemispheres"
   ]
  },
  {
   "cell_type": "code",
   "execution_count": 31,
   "metadata": {},
   "outputs": [
    {
     "name": "stdout",
     "output_type": "stream",
     "text": [
      "[{'title': 'Cerberus Hemisphere Enhanced', 'img_url': 'http://astropedia.astrogeology.usgs.gov/download/Mars/Viking/cerberus_enhanced.tif/full.jpg'}, {'title': 'Schiaparelli Hemisphere Enhanced', 'img_url': 'http://astropedia.astrogeology.usgs.gov/download/Mars/Viking/schiaparelli_enhanced.tif/full.jpg'}, {'title': 'Syrtis Major Hemisphere Enhanced', 'img_url': 'http://astropedia.astrogeology.usgs.gov/download/Mars/Viking/syrtis_major_enhanced.tif/full.jpg'}, {'title': 'Valles Marineris Hemisphere Enhanced', 'img_url': 'http://astropedia.astrogeology.usgs.gov/download/Mars/Viking/valles_marineris_enhanced.tif/full.jpg'}]\n"
     ]
    }
   ],
   "source": [
    "#url for Mars hemispheres\n",
    "url5 = \"https://astrogeology.usgs.gov/search/results?q=hemisphere+enhanced&k1=target&v1=Mars\"\n",
    "\n",
    "#visit url\n",
    "browser = init_browser()\n",
    "browser.visit(url5)\n",
    "\n",
    "#get the title of the hemispheres\n",
    "first = browser.find_by_tag('h3')[0].text\n",
    "second = browser.find_by_tag('h3')[1].text\n",
    "third = browser.find_by_tag('h3')[2].text\n",
    "fourth = browser.find_by_tag('h3')[3].text\n",
    "\n",
    "\n",
    "#use the browser function to find the img and click on it\n",
    "#when it takes you to the new page, use the browser function\n",
    "#to find the text 'sample' and get the href\n",
    "#go back to the front page after\n",
    "browser.find_by_css('.thumb')[0].click()\n",
    "first_img = browser.find_by_text('Sample')['href']\n",
    "browser.back()\n",
    "\n",
    "browser.find_by_css('.thumb')[1].click()\n",
    "second_img = browser.find_by_text('Sample')['href']\n",
    "browser.back()\n",
    "\n",
    "browser.find_by_css('.thumb')[2].click()\n",
    "third_img = browser.find_by_text('Sample')['href']\n",
    "browser.back()\n",
    "\n",
    "browser.find_by_css('.thumb')[3].click()\n",
    "fourth_img = browser.find_by_text('Sample')['href']\n",
    "\n",
    "#put the dictionaries in the list\n",
    "hemisphere_image_urls = [\n",
    "    {'title': first, 'img_url': first_img},\n",
    "    {'title': second, 'img_url': second_img},\n",
    "    {'title': third, 'img_url': third_img},\n",
    "    {'title': fourth, 'img_url': fourth_img}\n",
    "]\n",
    "\n",
    "#print and check results\n",
    "print(hemisphere_image_urls)"
   ]
  },
  {
   "cell_type": "code",
   "execution_count": null,
   "metadata": {},
   "outputs": [],
   "source": []
  }
 ],
 "metadata": {
  "kernelspec": {
   "display_name": "Python 3",
   "language": "python",
   "name": "python3"
  },
  "language_info": {
   "codemirror_mode": {
    "name": "ipython",
    "version": 3
   },
   "file_extension": ".py",
   "mimetype": "text/x-python",
   "name": "python",
   "nbconvert_exporter": "python",
   "pygments_lexer": "ipython3",
   "version": "3.6.5"
  }
 },
 "nbformat": 4,
 "nbformat_minor": 2
}
